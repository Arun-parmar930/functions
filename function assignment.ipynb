{
 "cells": [
  {
   "cell_type": "markdown",
   "metadata": {},
   "source": [
    "# Theory Questions:"
   ]
  },
  {
   "cell_type": "markdown",
   "metadata": {},
   "source": [
    " 1. What is the difference between a function and a method in Python?\n",
    "    - A function is a block of code that performs a specific task and can be called anywhere, while a method is a function that is associated with an object or class. "
   ]
  },
  {
   "cell_type": "markdown",
   "metadata": {},
   "source": [
    " 2. Explain the concept of function arguments and parameters in Python.\n",
    "    - Arguments are actual values that are passed to the funtion when the function is called.\n",
    "    - Parameter are placeholder for the values that will be passed into function\n",
    " "
   ]
  },
  {
   "cell_type": "markdown",
   "metadata": {},
   "source": [
    "3. What are the different ways to define and call a function in Python?\n",
    "    - In python a function can be define by \"def\" keyword or \"lambda\" keyword or inside the class.\n",
    "    And the function can be called by position/keyword argument\n",
    "    - Example :"
   ]
  },
  {
   "cell_type": "code",
   "execution_count": 9,
   "metadata": {},
   "outputs": [
    {
     "name": "stdout",
     "output_type": "stream",
     "text": [
      "8\n",
      "Pwskills\n",
      "16\n"
     ]
    }
   ],
   "source": [
    "#3. Ques 3 example\n",
    "def sum(a,b):\n",
    "    print(a+b)\n",
    "sum_2 = lambda x,y : x+y\n",
    "\n",
    "sum(3,5)\n",
    "sum(b = \"skills\",a = \"Pw\")\n",
    "print(sum_2(9,7))\n"
   ]
  },
  {
   "cell_type": "markdown",
   "metadata": {},
   "source": [
    " 4. What is the purpose of the `return` statement in a Python function?\n",
    "    - The return statement in a Python function is used to send a value back to the caller, ending the function's execution. If return is omitted or used without a value, the function returns None by default"
   ]
  },
  {
   "cell_type": "markdown",
   "metadata": {},
   "source": [
    " 5. What are iterators in Python and how do they differ from iterables?\n",
    "    - An iterator in Python is an object that allows sequential access to elements using the next() function until all elements are accessed. An iterable is any collection (like a list, tuple, or string) that can be looped over but requires iter() to create an iterator."
   ]
  },
  {
   "cell_type": "markdown",
   "metadata": {},
   "source": [
    " 6. Explain the concept of generators in Python and how they are defined.\n",
    "    - Generators in Python are special functions that produce values lazily using the yield keyword instead of returning all results at once. They are defined like regular functions but use yield to return data one item at a time"
   ]
  },
  {
   "cell_type": "markdown",
   "metadata": {},
   "source": [
    " 7. What are the advantages of using generators over regular functions?\n",
    "    - Memory Efficient: Generates values on demand without storing them in memory.\n",
    "    - Lazy Evaluation: Computes values only when needed, improving performance.\n",
    "    - State Retention: Remembers execution state between yield calls.\n",
    "    - Infinite Sequences: Enables creation of endless data streams without memory overflow."
   ]
  },
  {
   "cell_type": "markdown",
   "metadata": {},
   "source": [
    " 8. What is a lambda function in Python and when is it typically used?\n",
    "    - A lambda function is an anonymous, one-liner function defined using the \"lambda\" keyword. It is typically used for short, simple operations\n",
    "    - example :\n",
    "    "
   ]
  },
  {
   "cell_type": "code",
   "execution_count": 10,
   "metadata": {},
   "outputs": [
    {
     "name": "stdout",
     "output_type": "stream",
     "text": [
      "25\n"
     ]
    }
   ],
   "source": [
    "square = lambda x:x*x\n",
    "print(square(5))"
   ]
  },
  {
   "cell_type": "markdown",
   "metadata": {},
   "source": [
    "9. Explain the purpose and usage of the `map()` function in Python.\n",
    "    - The map() function in Python applies a given function to each item in an iterable (e.g., list, tuple) and returns a map object (an iterator). It is used for transforming data efficiently without writing explicit loops.\n",
    "    - syntax: map(function_name, iterable)\n"
   ]
  },
  {
   "cell_type": "markdown",
   "metadata": {},
   "source": [
    "10. What is the difference between `map()`, `reduce()`, and `filter()` functions in Python\n",
    "    - map: Applies a function to each element and returns a new iterable.\n",
    "    - filter: Filters elements based on a condition, returning only True values.\n",
    "    - reduce: Reduces an iterable to a single value by applying a function cumulatively."
   ]
  },
  {
   "cell_type": "code",
   "execution_count": 14,
   "metadata": {},
   "outputs": [
    {
     "name": "stdout",
     "output_type": "stream",
     "text": [
      "[1, 4, 9, 16, 25, 36]\n",
      "[2, 4, 6]\n",
      "21\n"
     ]
    }
   ],
   "source": [
    "nums = [1, 2, 3, 4, 5,6]\n",
    "# Map Example\n",
    "squared = list(map(lambda x: x**2, nums))\n",
    "print(squared)\n",
    "\n",
    "# Filter Example\n",
    "even_nums = list(filter(lambda x: x % 2 == 0, nums))\n",
    "print(even_nums)\n",
    "\n",
    "# Reduce Example\n",
    "from functools import reduce\n",
    "num = reduce(lambda x,y:x+y , nums)\n",
    "print(num)"
   ]
  },
  {
   "cell_type": "markdown",
   "metadata": {},
   "source": [
    " \n",
    "11. Using pen & Paper write the internal mechanism for sum operation using  reduce function on this given list:[47,11,42,13]"
   ]
  },
  {
   "cell_type": "markdown",
   "metadata": {},
   "source": [
    "![tittle](ans.jpg)"
   ]
  },
  {
   "cell_type": "markdown",
   "metadata": {},
   "source": [
    "# Practical Questions:"
   ]
  },
  {
   "cell_type": "code",
   "execution_count": 4,
   "metadata": {},
   "outputs": [
    {
     "data": {
      "text/plain": [
       "132"
      ]
     },
     "execution_count": 4,
     "metadata": {},
     "output_type": "execute_result"
    }
   ],
   "source": [
    "#1. Write a Python function that takes a list of numbers as input and returns the sum of all even numbers in the list.\n",
    "\n",
    "def add(l):\n",
    "    sum = 0\n",
    "    for i in l:\n",
    "        if i%2 == 0:\n",
    "            sum += i\n",
    "    return sum\n",
    "\n",
    "lst = [2,5,6,48,23,4,6,23,45,66]\n",
    "add(lst)\n"
   ]
  },
  {
   "cell_type": "code",
   "execution_count": 11,
   "metadata": {},
   "outputs": [
    {
     "data": {
      "text/plain": [
       "'mam snoitseuQ nohtyP'"
      ]
     },
     "execution_count": 11,
     "metadata": {},
     "output_type": "execute_result"
    }
   ],
   "source": [
    " #2. Create a Python function that accepts a string and returns the reverse of that string.\n",
    "\n",
    "def r_string(s):\n",
    "    news  = \"\"\n",
    "    n = len(s)-1\n",
    "    while n >= 0 :\n",
    "        news += s[n]\n",
    "        n -= 1\n",
    "    return news\n",
    "\n",
    "s = r_string(\"Python Questions mam\")\n",
    "s"
   ]
  },
  {
   "cell_type": "code",
   "execution_count": 12,
   "metadata": {},
   "outputs": [
    {
     "data": {
      "text/plain": [
       "[1, 4, 9, 16, 25, 36]"
      ]
     },
     "execution_count": 12,
     "metadata": {},
     "output_type": "execute_result"
    }
   ],
   "source": [
    " #3. Implement a Python function that takes a list of integers and returns a new list containing the squares of each number.\n",
    "\n",
    "def sq(l):\n",
    "    newl = []\n",
    "    for i in l :\n",
    "        newl.append(i*i)\n",
    "    return newl\n",
    "\n",
    "l = sq([1,2,3,4,5,6])\n",
    "l"
   ]
  },
  {
   "cell_type": "code",
   "execution_count": 13,
   "metadata": {},
   "outputs": [
    {
     "name": "stdout",
     "output_type": "stream",
     "text": [
      "Prime number between 1 and 200\n",
      "1 2 3 5 7 11 13 17 19 23 29 31 37 41 43 47 53 59 61 67 71 73 79 83 89 97 101 103 107 109 113 127 131 137 139 149 151 157 163 167 173 179 181 191 193 197 199 "
     ]
    }
   ],
   "source": [
    "#4. Write a Python function that checks if a given number is prime or not from 1 to 200.\n",
    "\n",
    "def prime(n):\n",
    "    for i in range(2,n):\n",
    "        if n%i == 0:\n",
    "            return\n",
    "    print(n, end =\" \")\n",
    "\n",
    "print(\"Prime number between 1 and 200\")\n",
    "for i in range(1,201):\n",
    "    prime(i)\n"
   ]
  },
  {
   "cell_type": "code",
   "execution_count": 23,
   "metadata": {},
   "outputs": [
    {
     "name": "stdout",
     "output_type": "stream",
     "text": [
      "0\n",
      "1\n",
      "1\n",
      "2\n",
      "3\n",
      "5\n",
      "8\n",
      "13\n",
      "21\n",
      "34\n"
     ]
    }
   ],
   "source": [
    "#5. Create an iterator class in Python that generates the Fibonacci sequence up to a specified number of terms.\n",
    "#note : review\n",
    "class itt:\n",
    "    def __init__(self,num):\n",
    "        self.num = num\n",
    "        self.a  = 0\n",
    "        self.b  = 1\n",
    "        self.count = 0\n",
    "\n",
    "    def __iter__(self):\n",
    "        return self\n",
    "    \n",
    "    def __next__(self):\n",
    "        if self.count >= self.num:\n",
    "            raise StopIteration\n",
    "        fib_number = self.a\n",
    "        self.a , self.b = self.b ,  self.a + self.b\n",
    "        self.count += 1\n",
    "        return fib_number\n",
    "    \n",
    "   \n",
    "x = itt(10)\n",
    "for i in  x :\n",
    "    print(i)\n"
   ]
  },
  {
   "cell_type": "code",
   "execution_count": 13,
   "metadata": {},
   "outputs": [
    {
     "name": "stdout",
     "output_type": "stream",
     "text": [
      "1 2 4 8 16 32 64 128 256 512 1024 "
     ]
    }
   ],
   "source": [
    "# 6. Write a generator function in Python that yields the powers of 2 up to a given exponent.\n",
    "\n",
    "def power_gen(n):\n",
    "    for i in range(n+1):\n",
    "        yield 2 ** i\n",
    "\n",
    "gen = power_gen(10)\n",
    "# next(gen)\n",
    "for i in gen:\n",
    "    print(i, end =\" \")"
   ]
  },
  {
   "cell_type": "code",
   "execution_count": 16,
   "metadata": {},
   "outputs": [
    {
     "name": "stdout",
     "output_type": "stream",
     "text": [
      "Mahatma Gandhi, born Mohandas Karamchand Gandhi on October 2, 1869, in Porbandar, India,\n",
      "was a leader of India's independence movement against British rule. He is known for his\n",
      "philosophy of nonviolent resistance, or Satyagraha, which inspired movements for civil rights and freedom across the world.\n",
      "Gandhi studied law in London and later worked in South Africa, where he first began his activism against racial discrimination.\n",
      "Upon returning to India, he led various campaigns against British rule, including the Non-Cooperation Movement, the Civil Disobedience\n",
      "Movement, and the Quit India Movement. His efforts were instrumental in India's eventual independence in 1947.\n",
      "He promoted principles of self-reliance, simple living, and unity among different religious communities.\n",
      "His advocacy for nonviolence and truth earned him the title \"Mahatma,\" meaning \"Great Soul.\"\n",
      "On January 30, 1948, Gandhi was assassinated by Nathuram Godse, a Hindu nationalist who opposed his vision of religious harmony.\n",
      "Despite his death, his legacy continues to influence peace movements and leaders worldwide.\n",
      "Mahatma Gandhi remains a symbol of resilience, peace, and the power of nonviolent resistance.\n"
     ]
    }
   ],
   "source": [
    "# 7. Implement a generator function that reads a file line by line and yields each line as a string.\n",
    "\n",
    "def read_file_lbl(file_path):\n",
    "\n",
    "    with open(file_path, 'r') as file:\n",
    "        for line in file:\n",
    "            yield line.rstrip()  \n",
    "\n",
    "\n",
    "for line in read_file_lbl(\"gandhi.txt\"):\n",
    "    print(line)\n"
   ]
  },
  {
   "cell_type": "code",
   "execution_count": 8,
   "metadata": {},
   "outputs": [
    {
     "data": {
      "text/plain": [
       "[(7, 0, 9), (4, 1, 6), (1, 2, 3)]"
      ]
     },
     "execution_count": 8,
     "metadata": {},
     "output_type": "execute_result"
    }
   ],
   "source": [
    "#8. Use a lambda function in Python to sort a list of tuples based on the second element of each tuple\n",
    "\n",
    "l = [(1,2,3),(4,1,6),(7,0,9)]\n",
    "sorted(l, key= lambda x : x[1])"
   ]
  },
  {
   "cell_type": "code",
   "execution_count": 19,
   "metadata": {},
   "outputs": [
    {
     "data": {
      "text/plain": [
       "[73.4, 77.0, 80.6, 86.0, 95.0, 104.0, 111.2, 114.8]"
      ]
     },
     "execution_count": 19,
     "metadata": {},
     "output_type": "execute_result"
    }
   ],
   "source": [
    " #9. Write a Python program that uses `map()` to convert a list of temperatures from Celsius to Fahrenheit.\n",
    "\n",
    "def converter(c):\n",
    "    return (c*9)/5 + 32\n",
    "\n",
    "temp = [23,25,27,30,35,40,44,46]\n",
    "list(map(converter,temp))\n"
   ]
  },
  {
   "cell_type": "code",
   "execution_count": 25,
   "metadata": {},
   "outputs": [
    {
     "data": {
      "text/plain": [
       "'Hll, Wrld!'"
      ]
     },
     "execution_count": 25,
     "metadata": {},
     "output_type": "execute_result"
    }
   ],
   "source": [
    " #10. Create a Python program that uses `filter()` to remove all the vowels from a given string.\n",
    "\n",
    "\n",
    "vowels = \"aeiouAEIOU\"\n",
    "text = \"Hello, World!\"\n",
    "\n",
    "sr = \"\".join(filter(lambda c: c not in vowels, text))\n",
    "sr"
   ]
  },
  {
   "cell_type": "code",
   "execution_count": 1,
   "metadata": {},
   "outputs": [
    {
     "data": {
      "text/plain": [
       "[(34587, 163.8), (98762, 284.0), (77226, 108.85000000000001), (88112, 84.97)]"
      ]
     },
     "execution_count": 1,
     "metadata": {},
     "output_type": "execute_result"
    }
   ],
   "source": [
    "#  11) Imagine an accounting routine used in a book shop. It works on a list with sublists, which look like this:\n",
    "#  Write a Python program, which returns a list with 2-tuples. Each tuple consists of the order number and the \n",
    "# product of the price per item and the quantity. The product should be increased by 10,- € if the value of the \n",
    "# order is smaller than 100,00 €.\n",
    "#  Write a Python program using lambda and map\n",
    "\n",
    "accounting =[[34587, \"Learning Python, Mark lutz\",4,40.95],\n",
    "             [98762, \"Programming Python,Mark lutz\", 5, 56.80],\n",
    "             [77226, \"Head First Pythonn, Paul Barry\",3, 32.95],\n",
    "             [88112, \"Einfuhrung in python3, Bernd Klein\",3, 24.99]]\n",
    "l = list(map(lambda x:(x[0] , x[2]*x[3]) if x[2]*x[3]>100 else (x[0] , x[2]*x[3]+10),accounting))\n",
    "l"
   ]
  },
  {
   "cell_type": "code",
   "execution_count": null,
   "metadata": {},
   "outputs": [],
   "source": []
  }
 ],
 "metadata": {
  "kernelspec": {
   "display_name": "base",
   "language": "python",
   "name": "python3"
  },
  "language_info": {
   "codemirror_mode": {
    "name": "ipython",
    "version": 3
   },
   "file_extension": ".py",
   "mimetype": "text/x-python",
   "name": "python",
   "nbconvert_exporter": "python",
   "pygments_lexer": "ipython3",
   "version": "3.12.7"
  }
 },
 "nbformat": 4,
 "nbformat_minor": 2
}
